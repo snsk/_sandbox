{
  "nbformat": 4,
  "nbformat_minor": 0,
  "metadata": {
    "colab": {
      "name": "Deeplearning_Image_Classification_Tutorial.ipynb",
      "provenance": [],
      "collapsed_sections": [],
      "toc_visible": true,
      "mount_file_id": "10Wlw3xfqBT_zhMn5YOj4JxHrVX9raT_T",
      "authorship_tag": "ABX9TyPFDeQPd27301CTmAvRiWxp",
      "include_colab_link": true
    },
    "kernelspec": {
      "display_name": "Python 3",
      "name": "python3"
    },
    "language_info": {
      "name": "python"
    },
    "accelerator": "GPU"
  },
  "cells": [
    {
      "cell_type": "markdown",
      "metadata": {
        "id": "view-in-github",
        "colab_type": "text"
      },
      "source": [
        "<a href=\"https://colab.research.google.com/github/snsk/_sandbox/blob/main/Deeplearning_Image_Classification_Tutorial.ipynb\" target=\"_parent\"><img src=\"https://colab.research.google.com/assets/colab-badge.svg\" alt=\"Open In Colab\"/></a>"
      ]
    },
    {
      "cell_type": "markdown",
      "metadata": {
        "id": "hflMQxEzBjV9"
      },
      "source": [
        "# Tensorflow.kerasで体験する画像認識モデル開発プロセス\n",
        "\n",
        "## 講義概要と目的\n",
        "\n",
        "tf.keras のCNN（畳み込みニューラルネットワーク）を使って2種類の画像を識別する画像認識モデルの開発を体験する。典型的な機械学習(ディープラーニング)モデルの開発のプロセスを学ぶことで、AI案件における課題を理解しやすくする。\n",
        "\n",
        "## 対象\n",
        "\n",
        "*    学習モデル（教師あり）の開発をざっと確認、体験したい人\n",
        "*    MNIST（手書き数字認識）はやってみたけど結局何をやってるのか分からず詳細を知りたい人\n",
        "\n",
        "## 受講資格\n",
        "\n",
        "*   Python初級レベル\n",
        "\n",
        "<hr>"
      ]
    },
    {
      "cell_type": "markdown",
      "metadata": {
        "id": "Hfcl_rt3F6Ol"
      },
      "source": [
        "# 講義メモ\n",
        "\n",
        "## 何をやるか\n",
        "\n",
        "1. 犬と猫を識別するモデルを100枚で作ってみる\n",
        "2. 正確度がいまいち\n",
        "3. Data augmentation（データの水増し）をする\n",
        "4. 正確度が上がる\n",
        "5. モデルを保存する\n",
        "6. 保存したモデルを使って1枚を識別する\n",
        "\n",
        "## 何を実装するのか\n",
        "\n",
        "大きく分けて、\n",
        "\n",
        "1. 必要なライブラリのインポート\n",
        "2. 画像を読み込んで色相、サイズ、2次元配列 & numpy arrayへ変換\n",
        "3. 正解ラベルをone-hotベクトルに変換\n",
        "4. 訓練用データと評価用データを仕分ける\n",
        "5. モデルを構築する\n",
        "6. 損失関数、最適化アルゴリズム、メトリクスを指定してコンパイルする\n",
        "7. 訓練用データを利用して訓練する\n",
        "8. 訓練結果を図表で確認する\n",
        "9. 満足いく結果になるまで、手順5～8を繰り返す\n",
        "\n",
        "上記のステップを辿る\n",
        "\n",
        "## 畳み込みニューラルネットワークモデル\n",
        "\n",
        "* Conv2D: 2次元畳み込み層\n",
        "* MaxPooling2D: 物体の位置ずれに対応するプーリング層\n",
        "* Dropout: ランダムでノードを不活性化させて過学習を防ぐ\n",
        "* Flatten: 2次元データを1次元に変換する\n",
        "* Dence: 全結合層。前の層までの結果をすべて結合する\n",
        "\n",
        "\n",
        "※このモデル構成はkerasのexampleに昔あったもの。いまなぜか無くなっているが、多くの画像認識のチュートリアルで未だに採用されている。\n",
        "https://github.com/keras-team/keras/blob/master/keras/benchmarks/keras_examples_benchmarks/cifar10_cnn_benchmark_test.py#L39\n",
        "\n",
        "### Conv2D層, Pooling層の説明\n",
        "\n",
        "* 画像を使ったほうが分かりやすいので以下で解説\n",
        "https://docs.google.com/presentation/d/11RgJqQZ8AsOyExEUsn8ny2Wfn88isFa7Fmt9a9deKjo/edit#slide=id.ge9f92f8e16_0_77\n",
        "\n",
        "## 損失関数、最適化アルゴリズム、メトリクス\n",
        "\n",
        "* 学習モデルの訓練は基本的に損失関数（期待結果とのズレ）を最小化する方向に向かう\n",
        "* 与えられたデータの特徴を適切に抑えられていない状態が「学習不足(underfitting)」。学習一般的ではない特徴まで学習してしまっている状態を「過学習（overfitting）」という\n",
        "\n",
        "### 損失関数\n",
        "\n",
        "損失関数にはさまざまな種類があり、作りたいモデルによって最適な関数が異なる\n",
        "\n",
        "* N個の説明変数から1つの目的変数を求める＝線形回帰モデルを作りたい場合\n",
        "  * 平均二乗誤差 / mean_squared_error\n",
        "    * 最もメジャー。外れ値に敏感で結果が不安定になりやすい\n",
        "  * 平均絶対誤差 / mean_absolute_error\n",
        "    * 外れ値に強いが、誤差に対して鈍感。\n",
        "  * 平均二乗対数誤差 / mean_squared_logarithmic_error\n",
        "    * 外れ値に強い。数式が人間に分かりにくい。\n",
        "* 分類問題を解くモデルを作りたい場合\n",
        "  * 交差エントロピー誤差 / categorical_crossentropy\n",
        "    * 多クラス分類のとき\n",
        "  * 二値交差エントロピー誤差 / binarybinary_crossentropy\n",
        "    * 二値クラス分類のとき\n",
        "\n",
        "### 最適化アルゴリズム\n",
        "\n",
        "* パラメータをどう調整すると素早く損失をゼロに近づけられるか？というアプローチのこと\n",
        "* 最急降下法（勾配降下法）\n",
        "  * パラメータで損失関数を微分することで損失を降下(小さく)する方向を逐次的に探してその方向にパラメータを調整させていく\n",
        "  * 要するに、無数のパラメータ平面において微分を取り上るか下るかを決める\n",
        "\n",
        "* 図表を交えた詳しい解説はここが良さそう\n",
        "  * https://qiita.com/omiita/items/1735c1d048fe5f611f80\n",
        "\n",
        "* 各アルゴリズムの特徴\n",
        "  * SGD\t最も基本となるアルゴリズム・勾配の方向に進む\n",
        "  * momentumSGD\tSGD＋「速度」と「慣性」の概念\n",
        "  * AdaGrad\t学習が進むほど学習率を小さくしていく\n",
        "  * RMSprop\tAdaGrad＋最近の勾配ほど強く影響\n",
        "  * AdaDelta\t単位をそろえる\n",
        "  * Adam\tmomentumSGD＋RMSprop\n",
        "  * 引用元：https://tech-lab.sios.jp/archives/21823\n",
        "  * 参考(STAR機械学習WGの解説)：\n",
        "    * https://docs.google.com/presentation/d/1KvtcOVaxl8BUqOtp6vqioC7l-aRO7U54mcv5KruPNFM/edit#slide=id.p15\n",
        "\n",
        "\n",
        "* 結論。現在のkerasでは Adam で。\n",
        "\n",
        "## モデルの訓練\n",
        "\n",
        "### バッチサイズとエポック数\n",
        "\n",
        "* 最近の最適化アルゴリズムでは、ミニバッチ勾配降下法と確率的勾配降下法の中間をとったアルゴリズムが用いられるケースがほとんど。\n",
        "  * 学習に使うデータセットをいくつかのサブセットに分割する\n",
        "  * これがバッチサイズ（ミニバッチと呼ばれることもある）\n",
        "  * バッチサイズの指定は慣習として2のN乗が使われることが多い\n",
        "  * 数百件程度であれば32, 64あたり。\n",
        "  * イテレーション数＝バッチサイズ/データサイズ\n",
        "  * エポック数＝イテレーション数*NのN\n",
        "* 最適なエポック数は、損失関数が収束するまで。つまり、やってみないとわからない\n",
        "\n",
        "## 損失関数グラフ\n",
        "\n",
        "* 基本的には損失関数がほぼ収束（0に近づく）ことを狙っていく\n",
        "\n",
        "---\n",
        "\n"
      ]
    },
    {
      "cell_type": "markdown",
      "metadata": {
        "id": "GOcH73LJ-Ca9"
      },
      "source": [
        "\n",
        "# 最終成果物：2種類の画像を識別するモデル\n",
        "\n",
        "最終的に出来上がる成果物。このモデルでは、犬と猫を識別している。"
      ]
    },
    {
      "cell_type": "code",
      "metadata": {
        "colab": {
          "base_uri": "https://localhost:8080/",
          "height": 1000
        },
        "id": "JZOAZidS6GVy",
        "outputId": "9403ef8d-841d-4431-ea40-404b3856a04b"
      },
      "source": [
        "import numpy as np\n",
        "import keras.optimizers\n",
        "import glob\n",
        "from keras.utils import np_utils\n",
        "from keras.models import Sequential\n",
        "from keras.layers import Dense, Dropout, Activation\n",
        "from keras.layers.convolutional import Conv2D, MaxPooling2D\n",
        "from keras.layers.core import Dense, Dropout, Activation, Flatten\n",
        "from sklearn.model_selection import train_test_split\n",
        "from PIL import Image\n",
        "from pprint import pprint\n",
        "\n",
        "folder = [\"dog_1000\",\"cat_1000\"]\n",
        "image_size = 100\n",
        "X = []\n",
        "Y = []\n",
        "for index, name in enumerate(folder):\n",
        "    dir = \"/content/drive/MyDrive/colab_root/\" + name\n",
        "    files = glob.glob(dir + \"/*.jpg\")\n",
        "    for i, file in enumerate(files):\n",
        "        image = Image.open(file)\n",
        "        image = image.convert(\"RGB\")\n",
        "        image = image.resize((image_size, image_size))\n",
        "        data = np.asarray(image)\n",
        "        X.append(data)\n",
        "        Y.append(index)\n",
        "\n",
        "X = np.array(X)\n",
        "Y = np.array(Y)\n",
        "\n",
        "X = X.astype('float32')\n",
        "X = X / 255.0\n",
        "\n",
        "# 正解ラベルの形式を変換\n",
        "Y = np_utils.to_categorical(Y, 2)\n",
        "\n",
        "# 学習用データとテストデータを切り分ける\n",
        "X_train, X_test, Y_train, Y_test = train_test_split(X, Y, test_size=0.20)\n",
        "'''\n",
        "X_train:訓練用入力データ\n",
        "X_test :訓練用正解データ\n",
        "Y_train:評価用入力データ\n",
        "Y_test :評価用正解データ\n",
        "'''\n",
        "\n",
        "# CNNを構築\n",
        "# Sequentialモデルは addされたモデル層が一列に並ぶ\n",
        "model = Sequential()\n",
        "\n",
        "#Conv2D:2次元畳み込み層 2x2のパネルを32枚使う。padding='same' で出力画像のサイズが変わらないようにする\n",
        "model.add(Conv2D(32, (3, 3), padding='same',input_shape=X_train.shape[1:]))\n",
        "model.add(Activation('relu'))\n",
        "model.add(Conv2D(32, (3, 3)))\n",
        "model.add(Activation('relu'))\n",
        "model.add(MaxPooling2D(pool_size=(2, 2)))\n",
        "model.add(Dropout(0.25))\n",
        " \n",
        "model.add(Conv2D(64, (3, 3), padding='same'))\n",
        "model.add(Activation('relu'))\n",
        "model.add(Conv2D(64, (3, 3)))\n",
        "model.add(Activation('relu'))\n",
        "model.add(MaxPooling2D(pool_size=(2, 2)))\n",
        "model.add(Dropout(0.25))\n",
        " \n",
        "model.add(Flatten())\n",
        "model.add(Dense(512))\n",
        "model.add(Activation('relu'))\n",
        "model.add(Dropout(0.5))\n",
        "model.add(Dense(2))\n",
        "model.add(Activation('softmax'))\n",
        "\n",
        "#モデルのコンパイル\n",
        "model.compile(\n",
        "    loss='categorical_crossentropy',\n",
        "    optimizer='adam',\n",
        "    metrics=['accuracy']\n",
        ")\n",
        "\n",
        "#モデルの訓練\n",
        "epochs_num=25\n",
        "result = model.fit(X_train, Y_train, batch_size=64, epochs=epochs_num, validation_data=(X_test, Y_test))\n",
        "\n",
        "#modelのテキスト可視化。Sequentialモデルならこれでも十分、らしい\n",
        "#print(model.summary())\n",
        "\n",
        "#modelのビジュアル可視化。要install and PATH setting GraphViz, pydot。functional API を利用した複雑なモデルの時はこちら\n",
        "#from keras.utils.vis_utils import plot_model\n",
        "#plot_model(model, to_file='./model.png', show_shapes=True, expand_nested=True)\n",
        "\n",
        "#model.save('ramen_hiyashi.h5')\n",
        "\n",
        "import matplotlib.pyplot as plt\n",
        "\n",
        "plt.figure(figsize=(10,5)) # グラフのサイズ\n",
        "\n",
        "# Plot training & validation accuracy values\n",
        "plt.subplot(1,2,1) # 1つめのグラフ\n",
        "\n",
        "plt.plot(result.history['accuracy'])\n",
        "plt.plot(result.history['val_accuracy'])\n",
        "plt.title('Model accuracy')\n",
        "plt.ylabel('Accuracy')\n",
        "plt.xlabel('Epoch')\n",
        "plt.legend(['Train', 'Test'], loc='upper left')\n",
        "\n",
        "# Plot training & validation loss values\n",
        "plt.subplot(1,2,2) # 2つめのグラフ\n",
        "plt.plot(result.history['loss'])\n",
        "plt.plot(result.history['val_loss'])\n",
        "plt.title('Model loss')\n",
        "plt.ylabel('Loss')\n",
        "plt.xlabel('Epoch')\n",
        "plt.legend(['Train', 'Test'], loc='upper left')\n",
        "    \n",
        "plt.show() # グラフを表示する\n",
        "\n",
        "#評価 & 評価結果出力\n",
        "print(model.evaluate(X_test, Y_test))\n",
        "print('Test:')\n",
        "test_loss, test_acc = model.evaluate(X_test, Y_test, verbose=1)\n",
        "print('\\nTest accuracy:', test_acc)"
      ],
      "execution_count": null,
      "outputs": [
        {
          "output_type": "stream",
          "text": [
            "Epoch 1/25\n",
            "26/26 [==============================] - 3s 108ms/step - loss: 0.7580 - accuracy: 0.5148 - val_loss: 0.6900 - val_accuracy: 0.6749\n",
            "Epoch 2/25\n",
            "26/26 [==============================] - 3s 98ms/step - loss: 0.6887 - accuracy: 0.5524 - val_loss: 0.6818 - val_accuracy: 0.5419\n",
            "Epoch 3/25\n",
            "26/26 [==============================] - 3s 98ms/step - loss: 0.6576 - accuracy: 0.6541 - val_loss: 0.6616 - val_accuracy: 0.5714\n",
            "Epoch 4/25\n",
            "26/26 [==============================] - 3s 98ms/step - loss: 0.6024 - accuracy: 0.6880 - val_loss: 0.5586 - val_accuracy: 0.7611\n",
            "Epoch 5/25\n",
            "26/26 [==============================] - 3s 98ms/step - loss: 0.5554 - accuracy: 0.7275 - val_loss: 0.4939 - val_accuracy: 0.7882\n",
            "Epoch 6/25\n",
            "26/26 [==============================] - 3s 98ms/step - loss: 0.5035 - accuracy: 0.7540 - val_loss: 0.4185 - val_accuracy: 0.8054\n",
            "Epoch 7/25\n",
            "26/26 [==============================] - 3s 99ms/step - loss: 0.4681 - accuracy: 0.7830 - val_loss: 0.3893 - val_accuracy: 0.8374\n",
            "Epoch 8/25\n",
            "26/26 [==============================] - 3s 98ms/step - loss: 0.3879 - accuracy: 0.8317 - val_loss: 0.3140 - val_accuracy: 0.8892\n",
            "Epoch 9/25\n",
            "26/26 [==============================] - 3s 98ms/step - loss: 0.3005 - accuracy: 0.8792 - val_loss: 0.2569 - val_accuracy: 0.8818\n",
            "Epoch 10/25\n",
            "26/26 [==============================] - 3s 98ms/step - loss: 0.2932 - accuracy: 0.8767 - val_loss: 0.3116 - val_accuracy: 0.8744\n",
            "Epoch 11/25\n",
            "26/26 [==============================] - 3s 98ms/step - loss: 0.2231 - accuracy: 0.9112 - val_loss: 0.1964 - val_accuracy: 0.9212\n",
            "Epoch 12/25\n",
            "26/26 [==============================] - 3s 99ms/step - loss: 0.1967 - accuracy: 0.9186 - val_loss: 0.2040 - val_accuracy: 0.9212\n",
            "Epoch 13/25\n",
            "26/26 [==============================] - 3s 99ms/step - loss: 0.1213 - accuracy: 0.9494 - val_loss: 0.1423 - val_accuracy: 0.9458\n",
            "Epoch 14/25\n",
            "26/26 [==============================] - 3s 99ms/step - loss: 0.1268 - accuracy: 0.9476 - val_loss: 0.2203 - val_accuracy: 0.9113\n",
            "Epoch 15/25\n",
            "26/26 [==============================] - 3s 99ms/step - loss: 0.1385 - accuracy: 0.9470 - val_loss: 0.1428 - val_accuracy: 0.9532\n",
            "Epoch 16/25\n",
            "26/26 [==============================] - 3s 99ms/step - loss: 0.0940 - accuracy: 0.9686 - val_loss: 0.0976 - val_accuracy: 0.9680\n",
            "Epoch 17/25\n",
            "26/26 [==============================] - 3s 98ms/step - loss: 0.0653 - accuracy: 0.9784 - val_loss: 0.1155 - val_accuracy: 0.9483\n",
            "Epoch 18/25\n",
            "26/26 [==============================] - 3s 99ms/step - loss: 0.0465 - accuracy: 0.9846 - val_loss: 0.2339 - val_accuracy: 0.9335\n",
            "Epoch 19/25\n",
            "26/26 [==============================] - 3s 99ms/step - loss: 0.0707 - accuracy: 0.9778 - val_loss: 0.0794 - val_accuracy: 0.9704\n",
            "Epoch 20/25\n",
            "26/26 [==============================] - 3s 98ms/step - loss: 0.0398 - accuracy: 0.9877 - val_loss: 0.1127 - val_accuracy: 0.9606\n",
            "Epoch 21/25\n",
            "26/26 [==============================] - 3s 99ms/step - loss: 0.0179 - accuracy: 0.9951 - val_loss: 0.0883 - val_accuracy: 0.9704\n",
            "Epoch 22/25\n",
            "26/26 [==============================] - 3s 98ms/step - loss: 0.0273 - accuracy: 0.9920 - val_loss: 0.0493 - val_accuracy: 0.9852\n",
            "Epoch 23/25\n",
            "26/26 [==============================] - 3s 98ms/step - loss: 0.0290 - accuracy: 0.9883 - val_loss: 0.0764 - val_accuracy: 0.9754\n",
            "Epoch 24/25\n",
            "26/26 [==============================] - 3s 98ms/step - loss: 0.0197 - accuracy: 0.9945 - val_loss: 0.0589 - val_accuracy: 0.9877\n",
            "Epoch 25/25\n",
            "26/26 [==============================] - 3s 99ms/step - loss: 0.0335 - accuracy: 0.9877 - val_loss: 0.1212 - val_accuracy: 0.9655\n"
          ],
          "name": "stdout"
        },
        {
          "output_type": "display_data",
          "data": {
            "image/png": "[encoded data removed]",
            "text/plain": [
              "<Figure size 720x360 with 2 Axes>"
            ]
          },
          "metadata": {
            "needs_background": "light"
          }
        },
        {
          "output_type": "stream",
          "text": [
            "13/13 [==============================] - 0s 20ms/step - loss: 0.1212 - accuracy: 0.9655\n",
            "[0.1211826279759407, 0.9655172228813171]\n",
            "Test:\n",
            "13/13 [==============================] - 0s 19ms/step - loss: 0.1212 - accuracy: 0.9655\n",
            "\n",
            "Test accuracy: 0.9655172228813171\n"
          ],
          "name": "stdout"
        }
      ]
    },
    {
      "cell_type": "markdown",
      "metadata": {
        "id": "l5yo8NS6ECqT"
      },
      "source": [
        "# Kerasによる画像データの拡張：Data augmentation"
      ]
    },
    {
      "cell_type": "code",
      "metadata": {
        "id": "vtey08KRECWj"
      },
      "source": [
        "import numpy as np\n",
        "import matplotlib.pyplot as plt\n",
        "from keras.preprocessing import image\n",
        "\n",
        "colab_root = '/content/drive/MyDrive/colab_root/'\n",
        "\n",
        "# 画像を読み込む。\n",
        "img = image.load_img(colab_root+'ramen_1.jpg')\n",
        "img = np.array(img)\n",
        "\n",
        "plt.imshow(img)\n",
        "plt.show()\n",
        "\n",
        "# flow に渡すために配列を四次元化\n",
        "img = img[None, ...]\n",
        "\n",
        "# 画像変形のジェネレータを作成\n",
        "datagen = image.ImageDataGenerator(rotation_range=50)\n",
        "gen = datagen.flow(img, batch_size = 1)\n",
        "\n",
        "# バッチの実行\n",
        "batches = next(gen)\n",
        "# 画像として表示するためにuint8に変換\n",
        "g_img = batches[0].astype(np.uint8)\n",
        "\n",
        "plt.imshow(g_img)\n",
        "plt.show()\n"
      ],
      "execution_count": null,
      "outputs": []
    },
    {
      "cell_type": "markdown",
      "metadata": {
        "id": "MhYxElk3dQYt"
      },
      "source": [
        "# 構築済みのモデルを使う\n",
        "\n"
      ]
    },
    {
      "cell_type": "code",
      "metadata": {
        "colab": {
          "base_uri": "https://localhost:8080/"
        },
        "id": "suH0mx8pdPsM",
        "outputId": "dd9b73f5-1554-46fe-da63-ebe1113dfc05"
      },
      "source": [
        "from keras.models import load_model\n",
        "import numpy as np\n",
        "from keras.preprocessing.image import img_to_array, load_img\n",
        "\n",
        "colab_root = '/content/drive/MyDrive/colab_root/'\n",
        "\n",
        "# modelと画像ファイルの読み込み\n",
        "model = load_model(colab_root + 'ramen_hiyashi_acc0.9675.h5')\n",
        "\n",
        "# 画像ファイルの行列変換\n",
        "img = img_to_array(load_img(colab_root + 'ramen_2.jpg', target_size=(100,100)))\n",
        "img_nad = img_to_array(img)/255\n",
        "img_nad = img_nad[None, ...]\n",
        "\n",
        "# 正解ラベルの定義\n",
        "label=['ramen', 'hiyashi']\n",
        "\n",
        "# 判別\n",
        "pred = model.predict(img_nad, batch_size=1, verbose=0)\n",
        "print(pred)\n",
        "score = np.max(pred)\n",
        "pred_label = label[np.argmax(pred[0])]\n",
        "print('name:',pred_label)\n",
        "print('score:',score)"
      ],
      "execution_count": null,
      "outputs": [
        {
          "output_type": "stream",
          "text": [
            "[[0.7606613  0.23933864]]\n",
            "name: ramen\n",
            "score: 0.7606613\n"
          ],
          "name": "stdout"
        }
      ]
    },
    {
      "cell_type": "markdown",
      "metadata": {
        "id": "ebw76r-VdeXP"
      },
      "source": [
        "\n",
        "# np_arrayとimg_nad の動作確認"
      ]
    },
    {
      "cell_type": "code",
      "metadata": {
        "id": "Vc8ncqV8GWxL"
      },
      "source": [
        "from keras.models import load_model\n",
        "import numpy as np\n",
        "from keras.preprocessing.image import img_to_array, load_img\n",
        "from IPython.display import display\n",
        "\n",
        "colab_root = '/content/drive/MyDrive/colab_root/'\n",
        "\n",
        "# modelと画像ファイルの読み込み\n",
        "model = load_model(colab_root + 'ramen_hiyashi_acc0.9675.h5')\n",
        "\n",
        "# 画像ファイルの行列変換\n",
        "img = img_to_array(load_img(colab_root + 'ramen_2.jpg', target_size=(100,100)))\n",
        "display(img)\n",
        "img_nad = img_to_array(img)/255\n",
        "img_nad = img_nad[None, ...]\n",
        "display(img_nad)"
      ],
      "execution_count": null,
      "outputs": []
    },
    {
      "cell_type": "markdown",
      "metadata": {
        "id": "5Ub-iUgX_NXz"
      },
      "source": [
        "# 行列の積和演算"
      ]
    },
    {
      "cell_type": "code",
      "metadata": {
        "colab": {
          "base_uri": "https://localhost:8080/"
        },
        "id": "roRo4k5N_Xr_",
        "outputId": "fa567a80-70f1-43a0-d8b0-126d93357d80"
      },
      "source": [
        "import numpy as np\n",
        "\n",
        "image  = np.array([[0, 1, 2], [1, 2, 3], [2, 3, 0]])\n",
        "filter = np.array([[0, 1, 2], [1, 2, 0], [2, 0, 1]])\n",
        "\n",
        "momx = np.sum(image * filter, 1)\n",
        "print(np.sum(momx))"
      ],
      "execution_count": null,
      "outputs": [
        {
          "output_type": "stream",
          "text": [
            "14\n"
          ],
          "name": "stdout"
        }
      ]
    },
    {
      "cell_type": "markdown",
      "metadata": {
        "id": "m2IaBmxRB34A"
      },
      "source": [
        "# colab sandbox"
      ]
    },
    {
      "cell_type": "code",
      "metadata": {
        "colab": {
          "base_uri": "https://localhost:8080/"
        },
        "id": "ytiPvLKWB9jK",
        "outputId": "ebce55b2-dab4-42c5-c561-f974796aa60a"
      },
      "source": [
        "!python -V"
      ],
      "execution_count": null,
      "outputs": [
        {
          "output_type": "stream",
          "text": [
            "Python 3.7.11\n"
          ],
          "name": "stdout"
        }
      ]
    }
  ]
}